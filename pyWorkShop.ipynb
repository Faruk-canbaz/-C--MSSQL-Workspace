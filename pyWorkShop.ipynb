{
  "nbformat": 4,
  "nbformat_minor": 0,
  "metadata": {
    "colab": {
      "provenance": [],
      "authorship_tag": "ABX9TyNznKqxFBqj3tv5E1BXtxxs",
      "include_colab_link": true
    },
    "kernelspec": {
      "name": "python3",
      "display_name": "Python 3"
    },
    "language_info": {
      "name": "python"
    }
  },
  "cells": [
    {
      "cell_type": "markdown",
      "metadata": {
        "id": "view-in-github",
        "colab_type": "text"
      },
      "source": [
        "<a href=\"https://colab.research.google.com/github/Faruk-canbaz/-C--MSSQL-Workspace/blob/main/pyWorkShop.ipynb\" target=\"_parent\"><img src=\"https://colab.research.google.com/assets/colab-badge.svg\" alt=\"Open In Colab\"/></a>"
      ]
    },
    {
      "cell_type": "code",
      "execution_count": null,
      "metadata": {
        "colab": {
          "base_uri": "https://localhost:8080/"
        },
        "id": "oJlrVjrpzLrr",
        "outputId": "fde5cfac-4aa7-4504-ad45-75df30e0523e"
      },
      "outputs": [
        {
          "output_type": "stream",
          "name": "stdout",
          "text": [
            "1 4\n",
            "[1, 78, 74]\n",
            "[1, 4, 78]\n",
            "[356, 74, 41, 69]\n",
            "[1, 356, 69]\n",
            "[1, ' Ankara', ' Eskisehir ', 356, 74, 41, 69]\n"
          ]
        }
      ],
      "source": [
        "\"\"\" \n",
        "print ( \"i want to learn ML \", 135.6)\n",
        "type fonksiyonu değişkenin tipini gösterir. \n",
        "print(type(y))\n",
        "print(4) \n",
        "\"\"\" \n",
        "# list komutu array gibi düşünülebilir\n",
        "list2 = [1,4,78,356,74,41,69]\n",
        "list3 = [\"banana\",\"angel\"]\n",
        "y = len(list2)\n",
        "print(list2[0],list2[1])\n",
        "\n",
        "\n",
        "\n",
        "## also we can use other type for function, properties's name slicing\n",
        "## negatif index kullanılabilir. \n",
        "\n",
        "print(list2[0:5:2]) # bu şekilde de random index seçebiliriz, 0'dan 5'e kadar 2 artarak gider.\n",
        "\n",
        "## SLICING \n",
        "##x[a:b:n] n>0 şeklinde olmalıdır. \n",
        "## Slicing example\n",
        "print(list2[:3]) ## bu 0'dan 3'e kadar olanları yazdırır. \n",
        "print(list2[3:]) ## 3.indexten sonuncu indexe kadar yazar.\n",
        "\n",
        "print(list2[::3]) # ilk endesten başlayarak ikişer ikişer atlayarak yazacaktır.\n",
        "## Eğerki 2 yerine 1 yazarsan tersten başlar ve 1 gelir.\n",
        "\n",
        "\n",
        "## listelere sonradan veri atanabilir.\n",
        "list2[1:3] = [\" Ankara\", \" Eskisehir \"] # bunu tek bir değerle de yapabiliriz. \n",
        "print(list2)\n",
        "\n",
        "\n",
        "sa sa  sa\n",
        " \n",
        "\n",
        "\n",
        "\n",
        "\n"
      ]
    }
  ]
}